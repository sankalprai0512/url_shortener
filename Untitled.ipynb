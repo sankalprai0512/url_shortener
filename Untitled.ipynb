{
 "cells": [
  {
   "cell_type": "code",
   "execution_count": 1,
   "id": "00c3a4ab",
   "metadata": {},
   "outputs": [],
   "source": [
    "import pyshorteners"
   ]
  },
  {
   "cell_type": "code",
   "execution_count": 2,
   "id": "b524986d",
   "metadata": {},
   "outputs": [],
   "source": [
    "def shorten_url(url):\n",
    "    s = pyshorteners.Shortener()\n",
    "    short_url = s.tinyurl.short(url)\n",
    "    return short_url"
   ]
  },
  {
   "cell_type": "code",
   "execution_count": 3,
   "id": "9607a8d1",
   "metadata": {},
   "outputs": [
    {
     "name": "stdout",
     "output_type": "stream",
     "text": [
      "Original URL: https://www.linkedin.com/in/sankalp-rai-750208242/\n",
      "Shortened URL: http://tinyurl.com/ypjpoxjh\n"
     ]
    }
   ],
   "source": [
    "\n",
    "if __name__ == \"__main__\":\n",
    "    original_url = \"https://www.linkedin.com/in/sankalp-rai-750208242/\"\n",
    "    short_url = shorten_url(original_url)\n",
    "    \n",
    "    print(f\"Original URL: {original_url}\")\n",
    "    print(f\"Shortened URL: {short_url}\")"
   ]
  },
  {
   "cell_type": "code",
   "execution_count": 4,
   "id": "47b79cff",
   "metadata": {},
   "outputs": [
    {
     "name": "stdout",
     "output_type": "stream",
     "text": [
      "Original URL: https://www.linkedin.com/in/sankalp-rai-750208242/\n",
      "Shortened URL: http://your-short-domain/57e565a6\n",
      "Expanded URL: https://www.linkedin.com/in/sankalp-rai-750208242/\n"
     ]
    }
   ],
   "source": [
    " import hashlib\n",
    "\n",
    "class CustomShortener:\n",
    "    def __init__(self):\n",
    "        self.url_mapping = {}\n",
    "\n",
    "    def shorten_url(self, url):\n",
    "        # Generate a unique hash for the URL\n",
    "        url_hash = hashlib.md5(url.encode()).hexdigest()[:8]\n",
    "\n",
    "        # Create a short URL using the hash\n",
    "        short_url = f\"http://your-short-domain/{url_hash}\"\n",
    "\n",
    "        # Store the mapping in a dictionary\n",
    "        self.url_mapping[short_url] = url\n",
    "\n",
    "        return short_url\n",
    "\n",
    "    def expand_url(self, short_url):\n",
    "        # Retrieve the original URL from the mapping\n",
    "        original_url = self.url_mapping.get(short_url, \"https://www.linkedin.com/in/sankalp-rai-750208242/\")\n",
    "        return original_url\n",
    "\n",
    "if __name__ == \"__main__\":\n",
    "    custom_shortener = CustomShortener()\n",
    "\n",
    "    original_url = \"https://www.linkedin.com/in/sankalp-rai-750208242/\"\n",
    "    short_url = custom_shortener.shorten_url(original_url)\n",
    "\n",
    "    print(f\"Original URL: {original_url}\")\n",
    "    print(f\"Shortened URL: {short_url}\")\n",
    "\n",
    "    expanded_url = custom_shortener.expand_url(short_url)\n",
    "    print(f\"Expanded URL: {expanded_url}\")\n",
    "\n"
   ]
  },
  {
   "cell_type": "code",
   "execution_count": null,
   "id": "7e9d904c",
   "metadata": {},
   "outputs": [],
   "source": []
  }
 ],
 "metadata": {
  "kernelspec": {
   "display_name": "Python 3 (ipykernel)",
   "language": "python",
   "name": "python3"
  },
  "language_info": {
   "codemirror_mode": {
    "name": "ipython",
    "version": 3
   },
   "file_extension": ".py",
   "mimetype": "text/x-python",
   "name": "python",
   "nbconvert_exporter": "python",
   "pygments_lexer": "ipython3",
   "version": "3.11.4"
  }
 },
 "nbformat": 4,
 "nbformat_minor": 5
}
